{
  "nbformat": 4,
  "nbformat_minor": 0,
  "metadata": {
    "colab": {
      "provenance": [],
      "authorship_tag": "ABX9TyMNv+l3WN2OOhUFF+NBUQDL",
      "include_colab_link": true
    },
    "kernelspec": {
      "name": "python3",
      "display_name": "Python 3"
    },
    "language_info": {
      "name": "python"
    }
  },
  "cells": [
    {
      "cell_type": "markdown",
      "metadata": {
        "id": "view-in-github",
        "colab_type": "text"
      },
      "source": [
        "<a href=\"https://colab.research.google.com/github/Sneh-Trivedi/Python_Programming/blob/main/Sorting_Algo_Python.ipynb\" target=\"_parent\"><img src=\"https://colab.research.google.com/assets/colab-badge.svg\" alt=\"Open In Colab\"/></a>"
      ]
    },
    {
      "cell_type": "code",
      "execution_count": 4,
      "metadata": {
        "colab": {
          "base_uri": "https://localhost:8080/"
        },
        "id": "AHuIi6TMLPJg",
        "outputId": "4303aee0-b500-478c-8f98-46784593f6eb"
      },
      "outputs": [
        {
          "output_type": "stream",
          "name": "stdout",
          "text": [
            "[-5, -3, -3, 1, 2, 2, 2, 3, 7]\n"
          ]
        }
      ],
      "source": [
        "#Bubble Sort\n",
        "# TC = o(n^2)\n",
        "#SC = o(1)\n",
        "# Will take a pointer at i=1st postion,not 0th, and will compare it with i-1 positin, if arr[i-1]>arr[i], then swap, i++ . THis will give us bubble of largest element at the end everytime. Continue till you sort an entire array.\n",
        "\n",
        "A = [-5,3,2,1,-3,-3,7,2,2]\n",
        "\n",
        "def bubbleSort(arr):\n",
        "  for i in range(len(arr)-1):\n",
        "    flag = 0 # To check if the list is already sorted or not.\n",
        "    for j in range(len(arr)-1-i):\n",
        "      if arr[j]>arr[j+1]:\n",
        "        arr[j],arr[j+1] = arr[j+1],arr[j]\n",
        "        flag = 1\n",
        "  if(flag==0):\n",
        "    return arr\n",
        "  return arr\n",
        "\n",
        "\n",
        "\n",
        "sortedA = bubbleSort(A)\n",
        "print(sortedA)"
      ]
    },
    {
      "cell_type": "code",
      "source": [
        "# Insertion Sort\n",
        "# so for insertion sort, sort as you traverse. start with 2 pointers and compare with prev ones.\n",
        "# TC = O(n^2)\n",
        "\n",
        "A = [-5,3,2,1,-3,-3,7,2,2]\n",
        "\n",
        "def insertionSort(arr):\n",
        "  for i in range(1,len(arr)):\n",
        "    key = arr[i] # just storing into the key variable to swap later on\n",
        "    j = i - 1\n",
        "    while(arr[j]>key):\n",
        "      arr[j+1] = arr[j]\n",
        "      j = j-1\n",
        "      arr[j+1] = key\n",
        "  return arr\n",
        "\n",
        "sortedA = insertionSort(A)\n",
        "print(sortedA)"
      ],
      "metadata": {
        "colab": {
          "base_uri": "https://localhost:8080/"
        },
        "id": "gCsbt-tbM9HV",
        "outputId": "a316b889-e3bd-4cd8-9e28-467e5876876b"
      },
      "execution_count": null,
      "outputs": [
        {
          "output_type": "stream",
          "name": "stdout",
          "text": [
            "[-5, -3, -3, 1, 2, 2, 2, 3, 7]\n"
          ]
        }
      ]
    },
    {
      "cell_type": "code",
      "source": [
        "# Selection Sort\n",
        "# Every iteration, we select min value and then sort it.\n",
        "\n",
        "A = [-5,3,2,1,-3,-3,7,2,2]\n",
        "\n",
        "def selectionSort(arr):\n",
        "  for i in range(len(arr)):\n",
        "    minIndex = i\n",
        "    for j in range(i+1,len(arr)):\n",
        "      if arr[i] > arr[j]:\n",
        "        minIndex = j\n",
        "    arr[i], arr[minIndex] = arr[minIndex], arr[i]\n",
        "  return arr\n",
        "\n",
        "\n",
        "sortedA = selectionSort(A)\n",
        "print(sortedA)"
      ],
      "metadata": {
        "colab": {
          "base_uri": "https://localhost:8080/"
        },
        "id": "oRAbbKymY9sN",
        "outputId": "097e19f5-9b3a-45fe-f2a7-055818164aa1"
      },
      "execution_count": null,
      "outputs": [
        {
          "output_type": "stream",
          "name": "stdout",
          "text": [
            "[-5, -3, -3, 1, 2, 2, 2, 3, 7]\n"
          ]
        }
      ]
    }
  ]
}