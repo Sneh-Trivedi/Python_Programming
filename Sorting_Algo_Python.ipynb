{
  "nbformat": 4,
  "nbformat_minor": 0,
  "metadata": {
    "colab": {
      "provenance": [],
      "authorship_tag": "ABX9TyOX3AOP3dcJWzLexU5tNnmS",
      "include_colab_link": true
    },
    "kernelspec": {
      "name": "python3",
      "display_name": "Python 3"
    },
    "language_info": {
      "name": "python"
    }
  },
  "cells": [
    {
      "cell_type": "markdown",
      "metadata": {
        "id": "view-in-github",
        "colab_type": "text"
      },
      "source": [
        "<a href=\"https://colab.research.google.com/github/Sneh-Trivedi/Python_Programming/blob/main/Sorting_Algo_Python.ipynb\" target=\"_parent\"><img src=\"https://colab.research.google.com/assets/colab-badge.svg\" alt=\"Open In Colab\"/></a>"
      ]
    },
    {
      "cell_type": "code",
      "execution_count": 4,
      "metadata": {
        "colab": {
          "base_uri": "https://localhost:8080/"
        },
        "id": "AHuIi6TMLPJg",
        "outputId": "4303aee0-b500-478c-8f98-46784593f6eb"
      },
      "outputs": [
        {
          "output_type": "stream",
          "name": "stdout",
          "text": [
            "[-5, -3, -3, 1, 2, 2, 2, 3, 7]\n"
          ]
        }
      ],
      "source": [
        "#Bubble Sort\n",
        "# TC = o(n^2)\n",
        "#SC = o(1)\n",
        "# Will take a pointer at i=1st postion,not 0th, and will compare it with i-1 positin, if arr[i-1]>arr[i], then swap, i++ . THis will give us bubble of largest element at the end everytime. Continue till you sort an entire array.\n",
        "\n",
        "A = [-5,3,2,1,-3,-3,7,2,2]\n",
        "\n",
        "def bubbleSort(arr):\n",
        "  for i in range(len(arr)-1):\n",
        "    flag = 0 # To check if the list is already sorted or not.\n",
        "    for j in range(len(arr)-1-i):\n",
        "      if arr[j]>arr[j+1]:\n",
        "        arr[j],arr[j+1] = arr[j+1],arr[j]\n",
        "        flag = 1\n",
        "  if(flag==0):\n",
        "    return arr\n",
        "  return arr\n",
        "\n",
        "\n",
        "\n",
        "sortedA = bubbleSort(A)\n",
        "print(sortedA)"
      ]
    },
    {
      "cell_type": "code",
      "source": [
        "# Insertion Sort\n",
        "# so for insertion sort, sort as you traverse. start with 2 pointers and compare with prev ones.\n",
        "# TC = O(n^2)\n",
        "\n",
        "A = [-5,3,2,1,-3,-3,7,2,2]\n",
        "\n",
        "def insertionSort(arr):\n",
        "  for i in range(1,len(arr)):\n",
        "    key = arr[i] # just storing into the key variable to swap later on\n",
        "    j = i - 1\n",
        "    while(arr[j]>key and j>-1):\n",
        "      arr[j+1] = arr[j]\n",
        "      j = j-1\n",
        "      arr[j+1] = key\n",
        "  return arr\n",
        "\n",
        "sortedA = insertionSort(A)\n",
        "print(sortedA)"
      ],
      "metadata": {
        "colab": {
          "base_uri": "https://localhost:8080/"
        },
        "id": "gCsbt-tbM9HV",
        "outputId": "cff35027-153d-403d-afe7-8f4971fb2f4b"
      },
      "execution_count": 6,
      "outputs": [
        {
          "output_type": "stream",
          "name": "stdout",
          "text": [
            "[-5, -3, -3, 1, 2, 2, 2, 3, 7]\n"
          ]
        }
      ]
    },
    {
      "cell_type": "code",
      "source": [
        "# Selection Sort\n",
        "# Every iteration, we select min value and then sort it.\n",
        "\n",
        "A = [-5,3,2,1,-3,-3,7,2,2]\n",
        "\n",
        "def selectionSort(arr):\n",
        "  for i in range(len(arr)-1):\n",
        "    min = i\n",
        "    for j in range(len(arr)):\n",
        "      if(arr[j]<arr[min]):\n",
        "        arr[j],arr[min] = arr[min],arr[j]\n",
        "        min = j\n",
        "  return arr\n",
        "\n",
        "\n",
        "sortedA = selectionSort(A)\n",
        "print(sortedA)"
      ],
      "metadata": {
        "colab": {
          "base_uri": "https://localhost:8080/"
        },
        "id": "oRAbbKymY9sN",
        "outputId": "f08e2a86-5328-45f5-f5be-61271391a3a2"
      },
      "execution_count": 10,
      "outputs": [
        {
          "output_type": "stream",
          "name": "stdout",
          "text": [
            "[-5, 1, -3, 2, -3, 2, 2, 3, 7]\n"
          ]
        }
      ]
    },
    {
      "cell_type": "code",
      "source": [
        "# Merge Sort\n",
        "# Dicide and Conquer\n",
        "\n",
        "A = [-5,3,2,1,-3,-3,7,2,2]\n",
        "\n",
        "# Recurion function to divide\n",
        "\n",
        "def mergeSort(arr,lb,ub):\n",
        "  if(lb<ub):\n",
        "    mid = (lb + ub)//2\n",
        "    mergeSort(arr,lb,mid)\n",
        "    mergeSort(arr,mid+1,ub)\n",
        "    merge(arr,lb,mid,ub)\n",
        "\n",
        "\n",
        "# Recusrion function to sort and merge\n",
        "\n",
        "def merge(arr,lb,mid,ub):\n",
        "\n",
        "  i = lb\n",
        "  j= mid+1\n",
        "  k = lb\n",
        "  sortedArray = []\n",
        "\n",
        "  while(i<=mid and j<=ub):\n",
        "    if(arr[i]<arr[j]):\n",
        "      sortedArray.append(arr[i])\n",
        "      i += 1\n",
        "    else:\n",
        "      sortedArray.append(arr[j])\n",
        "      j += 1\n",
        "    k += 1\n",
        "\n",
        "  if(i>mid):\n",
        "    while(j<=ub):\n",
        "      sortedArray.append(arr[j])\n",
        "      j += 1\n",
        "      k += 1\n",
        "  else:\n",
        "    while(i<=mid):\n",
        "      sortedArray.append(arr[i])\n",
        "      i += 1\n",
        "      k += 1\n",
        "\n",
        "  for k in range(lb, ub + 1):\n",
        "        arr[k] = sortedArray[k - lb]\n",
        "\n",
        "mergeSort(A,0,len(A)-1)\n",
        "print(A)"
      ],
      "metadata": {
        "colab": {
          "base_uri": "https://localhost:8080/"
        },
        "id": "_hSLDy4nF547",
        "outputId": "f9ccbde7-2bec-40fd-eca1-adfbd038f045"
      },
      "execution_count": 18,
      "outputs": [
        {
          "output_type": "stream",
          "name": "stdout",
          "text": [
            "[-5, -3, -3, 1, 2, 2, 2, 3, 7]\n"
          ]
        }
      ]
    }
  ]
}